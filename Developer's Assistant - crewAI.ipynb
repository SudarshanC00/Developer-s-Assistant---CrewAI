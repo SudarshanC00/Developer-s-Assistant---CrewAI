{
 "cells": [
  {
   "cell_type": "markdown",
   "id": "1c23ba44-6f6d-4762-b8cf-8e43070e2895",
   "metadata": {},
   "source": [
    "# Agentic AI to fetch relevant Sikka APIs Using CREWAI"
   ]
  },
  {
   "cell_type": "markdown",
   "id": "04a9bc9c-2b09-46d7-b6bb-3e3423cf8e3c",
   "metadata": {},
   "source": [
    "## 1. Import all the necessary libraries"
   ]
  },
  {
   "cell_type": "code",
   "execution_count": 1,
   "id": "b8901582-e59e-40b4-b080-6ccc695721c1",
   "metadata": {},
   "outputs": [],
   "source": [
    "import pandas as pd\n",
    "from langchain.vectorstores import FAISS\n",
    "from langchain.embeddings.ollama import OllamaEmbeddings\n",
    "from langchain.text_splitter import RecursiveCharacterTextSplitter\n",
    "from langchain.schema import Document\n",
    "import os\n",
    "from crewai import Agent, Task\n",
    "from crewai.tools import tool\n",
    "import json\n",
    "from langchain_community.chat_models import ChatOllama"
   ]
  },
  {
   "cell_type": "markdown",
   "id": "c9167870-8b40-4cf0-809a-c30a5bec29de",
   "metadata": {},
   "source": [
    "## 2. Load Sikka API CSV (containing API endpoints and its relevant information)"
   ]
  },
  {
   "cell_type": "code",
   "execution_count": 2,
   "id": "d7e76ca5-be39-4361-8a11-799e4132577c",
   "metadata": {},
   "outputs": [],
   "source": [
    "api_csv_path = \"/Users/sudarshanc/Downloads/Sikka_APIs - Sikka_APIs.csv\"\n",
    "df = pd.read_csv(api_csv_path)"
   ]
  },
  {
   "cell_type": "code",
   "execution_count": 3,
   "id": "20774041-3c70-4308-a9cd-1bd4e5e2784b",
   "metadata": {},
   "outputs": [
    {
     "data": {
      "text/html": [
       "<div>\n",
       "<style scoped>\n",
       "    .dataframe tbody tr th:only-of-type {\n",
       "        vertical-align: middle;\n",
       "    }\n",
       "\n",
       "    .dataframe tbody tr th {\n",
       "        vertical-align: top;\n",
       "    }\n",
       "\n",
       "    .dataframe thead th {\n",
       "        text-align: right;\n",
       "    }\n",
       "</style>\n",
       "<table border=\"1\" class=\"dataframe\">\n",
       "  <thead>\n",
       "    <tr style=\"text-align: right;\">\n",
       "      <th></th>\n",
       "      <th>API Name</th>\n",
       "      <th>Description</th>\n",
       "      <th>API Endpoints</th>\n",
       "      <th>Document Link</th>\n",
       "    </tr>\n",
       "  </thead>\n",
       "  <tbody>\n",
       "    <tr>\n",
       "      <th>0</th>\n",
       "      <td>appointments</td>\n",
       "      <td>Returns appointments data from practice</td>\n",
       "      <td>https://api.sikkasoft.com/v4/appointments</td>\n",
       "      <td>https://apidocs.sikkasoft.com/#cc4375ec-0b6a-4...</td>\n",
       "    </tr>\n",
       "    <tr>\n",
       "      <th>1</th>\n",
       "      <td>appointments_available_slots</td>\n",
       "      <td>Returns available appointments slots from prac...</td>\n",
       "      <td>https://api.sikkasoft.com/v4/appointments_avai...</td>\n",
       "      <td>https://apidocs.sikkasoft.com/#6b18ec4a-cfec-4...</td>\n",
       "    </tr>\n",
       "    <tr>\n",
       "      <th>2</th>\n",
       "      <td>accounts_receivables</td>\n",
       "      <td>Returns account receivables details from practice</td>\n",
       "      <td>https://api.sikkasoft.com/v4/accounts_receivables</td>\n",
       "      <td>https://apidocs.sikkasoft.com/#fcb005b7-b9ce-4...</td>\n",
       "    </tr>\n",
       "    <tr>\n",
       "      <th>3</th>\n",
       "      <td>accounts_receivables_by_patients</td>\n",
       "      <td>Returns account receivables details by patient...</td>\n",
       "      <td>https://api.sikkasoft.com/v4/accounts_receivab...</td>\n",
       "      <td>https://apidocs.sikkasoft.com/#3ae94fe1-4b24-4...</td>\n",
       "    </tr>\n",
       "    <tr>\n",
       "      <th>4</th>\n",
       "      <td>patients</td>\n",
       "      <td>Returns list of patients in practice</td>\n",
       "      <td>https://api.sikkasoft.com/v4/patients</td>\n",
       "      <td>https://apidocs.sikkasoft.com/#67aa35de-a4d4-4...</td>\n",
       "    </tr>\n",
       "  </tbody>\n",
       "</table>\n",
       "</div>"
      ],
      "text/plain": [
       "                           API Name  \\\n",
       "0                      appointments   \n",
       "1      appointments_available_slots   \n",
       "2              accounts_receivables   \n",
       "3  accounts_receivables_by_patients   \n",
       "4                          patients   \n",
       "\n",
       "                                         Description  \\\n",
       "0            Returns appointments data from practice   \n",
       "1  Returns available appointments slots from prac...   \n",
       "2  Returns account receivables details from practice   \n",
       "3  Returns account receivables details by patient...   \n",
       "4               Returns list of patients in practice   \n",
       "\n",
       "                                       API Endpoints  \\\n",
       "0          https://api.sikkasoft.com/v4/appointments   \n",
       "1  https://api.sikkasoft.com/v4/appointments_avai...   \n",
       "2  https://api.sikkasoft.com/v4/accounts_receivables   \n",
       "3  https://api.sikkasoft.com/v4/accounts_receivab...   \n",
       "4              https://api.sikkasoft.com/v4/patients   \n",
       "\n",
       "                                       Document Link  \n",
       "0  https://apidocs.sikkasoft.com/#cc4375ec-0b6a-4...  \n",
       "1  https://apidocs.sikkasoft.com/#6b18ec4a-cfec-4...  \n",
       "2  https://apidocs.sikkasoft.com/#fcb005b7-b9ce-4...  \n",
       "3  https://apidocs.sikkasoft.com/#3ae94fe1-4b24-4...  \n",
       "4  https://apidocs.sikkasoft.com/#67aa35de-a4d4-4...  "
      ]
     },
     "execution_count": 3,
     "metadata": {},
     "output_type": "execute_result"
    }
   ],
   "source": [
    "df.head()"
   ]
  },
  {
   "cell_type": "markdown",
   "id": "cf64132b-89c6-4309-9364-0c52731e964a",
   "metadata": {},
   "source": [
    "## 3. Create Document and Vector Store from the API csv"
   ]
  },
  {
   "cell_type": "code",
   "execution_count": 4,
   "id": "6c0314e0-4e55-46f8-8447-07281b657d6a",
   "metadata": {},
   "outputs": [],
   "source": [
    "required_columns = {\"API Name\", \"API Endpoints\", \"Description\"} # making sure the data contains all these three columns \n",
    "if not required_columns.issubset(df.columns):\n",
    "    raise KeyError(f\"Missing required columns: {required_columns - set(df.columns)}\")"
   ]
  },
  {
   "cell_type": "code",
   "execution_count": 5,
   "id": "f43010f0-56b5-492f-8491-249c2ee7c3b0",
   "metadata": {},
   "outputs": [
    {
     "name": "stderr",
     "output_type": "stream",
     "text": [
      "/var/folders/4k/zn3p378n3lz57m43gw71xxwm0000gn/T/ipykernel_28214/1489782109.py:3: LangChainDeprecationWarning: The class `OllamaEmbeddings` was deprecated in LangChain 0.3.1 and will be removed in 1.0.0. An updated version of the class exists in the :class:`~langchain-ollama package and should be used instead. To use it run `pip install -U :class:`~langchain-ollama` and import as `from :class:`~langchain_ollama import OllamaEmbeddings``.\n",
      "  embedding_model = OllamaEmbeddings(model=\"mistral\") # Using Ollama(mistral LLM) to generate vector embeddings\n"
     ]
    },
    {
     "name": "stdout",
     "output_type": "stream",
     "text": [
      "✅ FAISS Vector Store Created Successfully using Ollama!\n"
     ]
    }
   ],
   "source": [
    "faiss_index_path = \"/Users/sudarshanc/faiss_index\" # directory to store faiss index file/ vector embeddings \n",
    "\n",
    "embedding_model = OllamaEmbeddings(model=\"mistral\") # Using Ollama(mistral LLM) to generate vector embeddings\n",
    "\n",
    "docs = [] #list to store the data from the csv file\n",
    "for _, row in df.iterrows():\n",
    "    metadata = {\n",
    "        \"API_Name\": row[\"API Name\"],\n",
    "        \"API_Endpoint\": row[\"API Endpoints\"],\n",
    "        \"Description\": row[\"Description\"],\n",
    "        \"Documentation\": row.get(\"Document Link\", \"N/A\")\n",
    "    }\n",
    "    # creating a meaningful seentence to store data and metadata into docs list in terms of dictionary \n",
    "    document_text = f\"Function: {row['Description']}. Use `{row['API Endpoints']}` to access it.\"\n",
    "    \n",
    "    docs.append(Document(page_content=document_text, metadata=metadata))\n",
    "\n",
    "# Data Preprocessing to generate embeddings\n",
    "text_splitter = RecursiveCharacterTextSplitter(chunk_size=500, chunk_overlap=50) # each chunk with 500 length and overlap of 50\n",
    "split_docs = text_splitter.split_documents(docs) # splits the complete document based on hte text_splitter parameters\n",
    "\n",
    "vectorstore = FAISS.from_documents(split_docs, embedding_model) # Generate the vector embeddings using Ollama Embeddings\n",
    "\n",
    "vectorstore.save_local(faiss_index_path) # store the Faiss vector database in local directory(optional)\n",
    "\n",
    "print(\"✅ FAISS Vector Store Created Successfully using Ollama!\")"
   ]
  },
  {
   "cell_type": "code",
   "execution_count": 6,
   "id": "7473da7c-2f68-4282-9ee6-ca22457a0088",
   "metadata": {},
   "outputs": [
    {
     "name": "stdout",
     "output_type": "stream",
     "text": [
      "FAISS Vector Store Loaded Successfully!\n"
     ]
    }
   ],
   "source": [
    "# Find the faiss vector embeddings from the local and load it for further computation\n",
    "if os.path.exists(faiss_index_path):\n",
    "    vectorstore = FAISS.load_local(faiss_index_path, embedding_model, allow_dangerous_deserialization=True)\n",
    "    print(\"FAISS Vector Store Loaded Successfully!\")\n",
    "else:\n",
    "    raise FileNotFoundError(\"FAISS Index Not Found! Make sure it is stored correctly.\")"
   ]
  },
  {
   "cell_type": "markdown",
   "id": "bb5ea9ab-2044-4f2e-b516-dbff2c869ed7",
   "metadata": {},
   "source": [
    "## 4. Build Custom tool (Retriever Tool)"
   ]
  },
  {
   "cell_type": "code",
   "execution_count": 7,
   "id": "79b64c9b-113f-4c77-963c-e5dc94b1dcb9",
   "metadata": {},
   "outputs": [],
   "source": [
    "# Build a custom tool for retrieving relevant data from the vector database using crewai's tool decorator \n",
    "@tool(\"Retriever tool\")\n",
    "def retrieve_api_from_vectorstore(query: str):\n",
    "    \"\"\"Search the FAISS vector store for the most relevant API endpoint.\"\"\"\n",
    "    docs = vectorstore.similarity_search(query, k=1)  # Get the top API match\n",
    "    if docs:\n",
    "        return docs[0].metadata\n",
    "    return \"No relevant API found in FAISS vector store.\""
   ]
  },
  {
   "cell_type": "markdown",
   "id": "49db50a8-e6ce-4474-88b0-ddf3a0b819ab",
   "metadata": {},
   "source": [
    "## 5. Define Retriever Agent and its Task"
   ]
  },
  {
   "cell_type": "code",
   "execution_count": 8,
   "id": "4013e43f-874f-4244-8f5e-486669a3f143",
   "metadata": {},
   "outputs": [],
   "source": [
    "retriever_agent = Agent(\n",
    "    role=\"Retriever\", # Retriever role\n",
    "    goal=\"Retrieve the most relevant Sikka API endpoint from FAISS based on user queries.\", # goal of the agent\n",
    "    backstory=\"\"\"An AI-powered API documentation expert with deep knowledge of Sikka API services. \n",
    "    You are capable of using FAISS vector store to fetch relevant API details.\"\"\", \n",
    "    # explicitly indicating the agent to use Faiss database to fetch data\n",
    "    description=\"Uses FAISS to retrieve structured API details, including endpoint, HTTP method, and description.\", \n",
    "    llm=\"ollama/mistral\",\n",
    "    tools=[retrieve_api_from_vectorstore], # Providing our custom tool for the agent to perform the task \n",
    "    allow_delegation=False # This make sures that there is no external influence on the output i.e., influence of LLMs... \n",
    ")"
   ]
  },
  {
   "cell_type": "code",
   "execution_count": 9,
   "id": "6b9a7b75-e422-4746-b0bd-1167487cdcb1",
   "metadata": {},
   "outputs": [],
   "source": [
    "retrieval_task = Task(\n",
    "    description=\"Retrieve the best API endpoint for the given user request by searching FAISS vector store.\",\n",
    "    agent=retriever_agent, # Task to be used by which agent\n",
    "    expected_output=\"A dictionary with API Name, Endpoint, HTTP Method, and Description.\" # output expectations from this task\n",
    ")"
   ]
  },
  {
   "cell_type": "markdown",
   "id": "a04fdb82-9d5b-451b-99de-d895c09466fe",
   "metadata": {},
   "source": [
    "## 6. Define Code Generator Agent and its Task\n",
    "### To define this agent, we are providing a sample backend and frontend code templates in order to test the API endpoints wheather its accessible and what input or outputs does the endpoint is expecting."
   ]
  },
  {
   "cell_type": "code",
   "execution_count": 10,
   "id": "58712c83-eb06-47e6-b9b5-a846b7762a49",
   "metadata": {},
   "outputs": [],
   "source": [
    "# This tool generates the backend and frontend code depending on the user request and the retriever agents output\n",
    "@tool(\"Dynamic Code Writer\")\n",
    "def generate_code(api_details: dict, user_request: str) -> str:\n",
    "    \"\"\"\n",
    "    Uses LLM to generate full backend and frontend code purely from user request and retrieved API details.\n",
    "    \"\"\"\n",
    "    # Prompt template\n",
    "    prompt = f\"\"\"\n",
    "You are a full-stack developer.\n",
    "\n",
    "Your task is to write backend and frontend code to fulfill the following user request:\n",
    "\"{user_request}\"\n",
    "\n",
    "Here are the API details retrieved from the vector store:\n",
    "{json.dumps(api_details, indent=2)}\n",
    "\n",
    "1. First understand the user request.\n",
    "2. Then decide what API call(s) are needed.\n",
    "3. Generate a backend (Flask or FastAPI preferred) that will handle this request and make the API call.\n",
    "4. Generate a frontend (React.js) that allows a user to interact with the backend.\n",
    "5. Explain briefly how the code works.\n",
    "\n",
    "Output only the code in two sections:\n",
    "### Backend Code:\n",
    "<code_here>\n",
    "\n",
    "### Frontend Code:\n",
    "<code_here>\n",
    "\"\"\"\n",
    "\n",
    "    llm = ChatOllama(model=\"mistral\") # Define LLM\n",
    "    response = llm.invoke(prompt) # invoke LLM wiht prompt template\n",
    "    return response.content"
   ]
  },
  {
   "cell_type": "code",
   "execution_count": 11,
   "id": "3a7ceaab-50b1-4324-b852-faa6eb362235",
   "metadata": {},
   "outputs": [],
   "source": [
    "code_generator_agent = Agent(\n",
    "    role=\"Code Generator\",\n",
    "    goal=\"Generate dynamic, executable backend and frontend code tailored to the Sikka API.\",\n",
    "    backstory=\"An expert full-stack developer capable of analyzing API specifications and generating functional Flask and React.js code from scratch.\",\n",
    "    description=\"Generates fully functional backend and frontend code dynamically, based on API specifications and user queries.\",\n",
    "    llm=\"ollama/mistral\",\n",
    "    tools=[generate_code], # utilise code generation function\n",
    "    allow_delegation=False\n",
    ")"
   ]
  },
  {
   "cell_type": "code",
   "execution_count": 12,
   "id": "e6a816e0-2a35-4602-b8b4-5e0ee24e40b2",
   "metadata": {},
   "outputs": [],
   "source": [
    "code_generation_task = Task(\n",
    "    description=\"Dynamically generate full-stack (backend + frontend) code for the selected Sikka API based on user request.\",\n",
    "    agent=code_generator_agent,\n",
    "    expected_output=\"Complete backend (Flask) and frontend (React.js) code dynamically generated based on API details.\"\n",
    ")"
   ]
  },
  {
   "cell_type": "markdown",
   "id": "2dd58468-c0ae-4026-afd4-d685a2071fa9",
   "metadata": {},
   "source": [
    "## 7. Provide user query and invoke the agents to perform the tasks"
   ]
  },
  {
   "cell_type": "code",
   "execution_count": 13,
   "id": "001d78ab-2a6b-4ac8-a6db-25df7149a584",
   "metadata": {},
   "outputs": [
    {
     "name": "stdout",
     "output_type": "stream",
     "text": [
      "Using Tool: Retriever tool\n",
      "🔍 API Details Retrieved:\n",
      " {'API_Name': 'kpis', 'API_Endpoint': 'https://api.sikkasoft.com/v4/kpis', 'Description': 'A key performance indicator (KPI) is a business metric used to evaluate factors that are crucial to the success of an organization.KPIs give you unique views of practice data that lead to action items to drive increased revenue and save valuable practice time.', 'Documentation': 'https://apidocs.sikkasoft.com/#033c595a-15bb-4f52-91b2-cebff8c7cfc3'}\n"
     ]
    }
   ],
   "source": [
    "user_query = \"Display KPIs like total payments, outstanding balances, and last 30-day collections.\"\n",
    "retrieved_api_info = retriever_agent.tools[0].run(user_query)  \n",
    "print(\"🔍 API Details Retrieved:\\n\", retrieved_api_info)"
   ]
  },
  {
   "cell_type": "code",
   "execution_count": 15,
   "id": "7fd4d5d8-c2f2-4e4d-9896-c7d6f7aad8c5",
   "metadata": {},
   "outputs": [
    {
     "name": "stdout",
     "output_type": "stream",
     "text": [
      "Using Tool: Dynamic Code Writer\n"
     ]
    },
    {
     "name": "stderr",
     "output_type": "stream",
     "text": [
      "/var/folders/4k/zn3p378n3lz57m43gw71xxwm0000gn/T/ipykernel_28214/3054442900.py:31: LangChainDeprecationWarning: The class `ChatOllama` was deprecated in LangChain 0.3.1 and will be removed in 1.0.0. An updated version of the class exists in the :class:`~langchain-ollama package and should be used instead. To use it run `pip install -U :class:`~langchain-ollama` and import as `from :class:`~langchain_ollama import ChatOllama``.\n",
      "  llm = ChatOllama(model=\"mistral\") # Define LLM\n"
     ]
    },
    {
     "name": "stdout",
     "output_type": "stream",
     "text": [
      "💻 Generated Full-Stack Code:\n",
      "  ### Backend Code (FastAPI):\n",
      "\n",
      "```python\n",
      "from fastapi import FastAPI, HTTPException\n",
      "import requests\n",
      "\n",
      "app = FastAPI()\n",
      "\n",
      "@app.get(\"/kpis\")\n",
      "async def get_kpis():\n",
      "    url = \"https://api.sikkasoft.com/v4/kpis\"\n",
      "    headers = {\"Authorization\": \"Bearer YOUR_API_KEY\"}  # Replace with your API key\n",
      "    response = requests.get(url, headers=headers)\n",
      "    if response.status_code != 200:\n",
      "        raise HTTPException(status_code=response.status_code, detail=\"Failed to fetch KPIs\")\n",
      "\n",
      "    data = response.json()\n",
      "    total_payments = data[\"total_payments\"]\n",
      "    outstanding_balances = data[\"outstanding_balances\"]\n",
      "    collections_30days = data[\"collections_30days\"]\n",
      "\n",
      "    return {\n",
      "        \"total_payments\": total_payments,\n",
      "        \"outstanding_balances\": outstanding_balances,\n",
      "        \"collections_30days\": collections_30days\n",
      "    }\n",
      "```\n",
      "\n",
      "### Frontend Code (React.js):\n",
      "\n",
      "```jsx\n",
      "import React, { useState, useEffect } from 'react';\n",
      "import axios from 'axios';\n",
      "\n",
      "function KPIs() {\n",
      "    const [kpis, setKpis] = useState({});\n",
      "\n",
      "    useEffect(() => {\n",
      "        const fetchData = async () => {\n",
      "            try {\n",
      "                const response = await axios.get('http://localhost:8000/kpis');\n",
      "                setKpis(response.data);\n",
      "            } catch (error) {\n",
      "                console.error('Error fetching KPIs:', error);\n",
      "            }\n",
      "        };\n",
      "        fetchData();\n",
      "    }, []);\n",
      "\n",
      "    return (\n",
      "        <div>\n",
      "            <h2>Key Performance Indicators</h2>\n",
      "            <ul>\n",
      "                <li><strong>Total Payments:</strong> {kpis.total_payments}</li>\n",
      "                <li><strong>Outstanding Balances:</strong> {kpis.outstanding_balances}</li>\n",
      "                <li><strong>Last 30-day Collections:</strong> {kpis.collections_30days}</li>\n",
      "            </ul>\n",
      "        </div>\n",
      "    );\n",
      "}\n",
      "\n",
      "export default KPIs;\n",
      "```\n",
      "\n",
      "This code assumes that you have a running FastAPI server at localhost:8000 and the API key for SikkaSoft is replaced with `YOUR_API_KEY`. The frontend fetches the data from the backend when the component mounts, stores it in state, and renders the KPIs accordingly.\n"
     ]
    }
   ],
   "source": [
    "generated_code = code_generator_agent.tools[0].run(retrieved_api_info, user_query)\n",
    "print(\"💻 Generated Full-Stack Code:\\n\", generated_code)"
   ]
  },
  {
   "cell_type": "code",
   "execution_count": null,
   "id": "dbcc58c5-23ce-4fb7-9c76-b3bbcb0fbf29",
   "metadata": {},
   "outputs": [],
   "source": []
  }
 ],
 "metadata": {
  "kernelspec": {
   "display_name": "Python 3 (ipykernel)",
   "language": "python",
   "name": "python3"
  },
  "language_info": {
   "codemirror_mode": {
    "name": "ipython",
    "version": 3
   },
   "file_extension": ".py",
   "mimetype": "text/x-python",
   "name": "python",
   "nbconvert_exporter": "python",
   "pygments_lexer": "ipython3",
   "version": "3.11.5"
  }
 },
 "nbformat": 4,
 "nbformat_minor": 5
}
